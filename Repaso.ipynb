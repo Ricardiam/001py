{
  "cells": [
    {
      "cell_type": "markdown",
      "metadata": {
        "id": "view-in-github",
        "colab_type": "text"
      },
      "source": [
        "<a href=\"https://colab.research.google.com/github/Ricardiam/001py/blob/main/Repaso.ipynb\" target=\"_parent\"><img src=\"https://colab.research.google.com/assets/colab-badge.svg\" alt=\"Open In Colab\"/></a>"
      ]
    },
    {
      "cell_type": "code",
      "execution_count": null,
      "metadata": {
        "colab": {
          "base_uri": "https://localhost:8080/"
        },
        "id": "yM7Dp8X42SCl",
        "outputId": "4d08c05a-6d84-4e50-c7c4-d535daecb63f"
      },
      "outputs": [
        {
          "name": "stdout",
          "output_type": "stream",
          "text": [
            "Ingrese un elemento N 5\n",
            "[[1, 1, 1, 1, 1], [1, 1, 1, 1, 1], [1, 1, 1, 1, 1], [1, 1, 1, 1, 1], [1, 1, 1, 1, 1]]\n"
          ]
        }
      ],
      "source": [
        "\"\"\"1.INGRESE UN N CREA UNA MATRIZ DE n*n \"\"\"\n",
        "n=int(input(\"Ingrese un elemento N \"))\n",
        "matriz=[]\n",
        "for i in range(n):\n",
        "    fila=[]\n",
        "    matriz.append(fila)\n",
        "    for j in range(n):\n",
        "     fila.append(1)\n",
        "\n",
        "print(matriz)"
      ]
    },
    {
      "cell_type": "code",
      "execution_count": null,
      "metadata": {
        "colab": {
          "base_uri": "https://localhost:8080/"
        },
        "id": "7Cnebi1Qo2_U",
        "outputId": "614ff8d0-0854-48ab-a072-66c58acac65f"
      },
      "outputs": [
        {
          "name": "stdout",
          "output_type": "stream",
          "text": [
            "[[], [], [], [], []]\n"
          ]
        }
      ],
      "source": [
        "\"\"\"2. Imprime una matriz vacía con el número especificado de columnas.\"\"\"\n",
        "def imprimir_matriz_vacia(num_columnas):\n",
        "\n",
        "    matriz = []\n",
        "    for _ in range(num_columnas):  # _ se usa para una variable que no se usa en el bucle\n",
        "        matriz.append([])  # Agrega una lista vacía para cada columna\n",
        "    print(matriz)\n",
        "\n",
        "# Ejemplo de uso:\n",
        "num_columnas = 5\n",
        "imprimir_matriz_vacia(num_columnas)"
      ]
    },
    {
      "cell_type": "code",
      "execution_count": null,
      "metadata": {
        "colab": {
          "base_uri": "https://localhost:8080/"
        },
        "id": "3BSfmqJL59Dj",
        "outputId": "5c5f7fe0-2ec9-4429-8923-e94dfc91da90"
      },
      "outputs": [
        {
          "name": "stdout",
          "output_type": "stream",
          "text": [
            "[[], [], [], [], []]\n",
            "[[], [], [], [], []]\n",
            "[[], [], [], [], []]\n",
            "[[], [], [], [], []]\n",
            "[[], [], [], [], []]\n"
          ]
        }
      ],
      "source": [
        "n = 5  # Numero de filas\n",
        "matriz = []\n",
        "for i in range(n):\n",
        "    matriz.append([])  # Agrega una lista vacía para cada fila\n",
        "\n",
        "# Imprimir la matriz vacía\n",
        "for fila in matriz:\n",
        "    print(matriz)\n"
      ]
    },
    {
      "cell_type": "code",
      "execution_count": null,
      "metadata": {
        "colab": {
          "base_uri": "https://localhost:8080/"
        },
        "id": "6L3Qlsme-AY2",
        "outputId": "5ba66395-f020-47f1-e82c-0d4bec805e2a"
      },
      "outputs": [
        {
          "name": "stdout",
          "output_type": "stream",
          "text": [
            "Ingrese un elemento N 3\n",
            "[[1, 2, 3], [4, 5, 6], [7, 8, 9]]\n"
          ]
        }
      ],
      "source": [
        "\"\"\"INGRESE UN N CREA UNA MATRIZ DE n*n \"\"\"\n",
        "n=int(input(\"Ingrese un elemento N \"))\n",
        "matriz=[]\n",
        "k=1\n",
        "for i in range(n):\n",
        "    fila=[]\n",
        "    matriz.append(fila)\n",
        "    for j in range(n):\n",
        "\n",
        "      fila.append(k)\n",
        "      k+=1\n",
        "\n",
        "\n",
        "print(matriz)\n",
        "\n"
      ]
    },
    {
      "cell_type": "code",
      "execution_count": null,
      "metadata": {
        "colab": {
          "base_uri": "https://localhost:8080/"
        },
        "id": "FW3-KT9o_zEK",
        "outputId": "e23d9bc7-9714-4d54-a79f-10fc53fcd3de"
      },
      "outputs": [
        {
          "name": "stdout",
          "output_type": "stream",
          "text": [
            "Ingrese un elemento N: 3\n",
            "Matriz llenada columna por columna:\n",
            "[1, 4, 7]\n",
            "[2, 5, 8]\n",
            "[3, 6, 9]\n"
          ]
        }
      ],
      "source": [
        "n = int(input(\"Ingrese un elemento N: \"))\n",
        "matriz = []\n",
        "k = 1\n",
        "\n",
        "# Inicializamos la matriz con filas vacías\n",
        "for i in range(n):\n",
        "    matriz.append([0]*n)\n",
        "\n",
        "# Llenamos la matriz columna por columna\n",
        "for j in range(n):\n",
        "    for i in range(n):\n",
        "        matriz[i][j] = k\n",
        "        k += 1\n",
        "\n",
        "print(\"Matriz llenada columna por columna:\")\n",
        "for fila in matriz:\n",
        "    print(fila)\n"
      ]
    },
    {
      "cell_type": "code",
      "execution_count": null,
      "metadata": {
        "colab": {
          "base_uri": "https://localhost:8080/"
        },
        "id": "_ivnDkvwBZjA",
        "outputId": "f2aec995-b14c-4c3a-e6ee-16b9a23a5993"
      },
      "outputs": [
        {
          "name": "stdout",
          "output_type": "stream",
          "text": [
            "15\n"
          ]
        }
      ],
      "source": [
        "\"\"\"cree una matriz cuadrada suma de elementos de la diagonal\"\"\"\n",
        "matriz=[[1,2,3],[4,5,6],[7,8,9]]\n",
        "suma_diagonal=0\n",
        "for i in range(len(matriz)):\n",
        "    suma_diagonal += matriz[i][i]\n",
        "\n",
        "print(suma_diagonal)\n"
      ]
    },
    {
      "cell_type": "code",
      "execution_count": null,
      "metadata": {
        "colab": {
          "base_uri": "https://localhost:8080/"
        },
        "id": "qUHSGHLuFbVk",
        "outputId": "217fffc4-2834-4142-977b-eb6ad68de7cd"
      },
      "outputs": [
        {
          "name": "stdout",
          "output_type": "stream",
          "text": [
            "20 25\n"
          ]
        }
      ],
      "source": [
        "\"\"\"cree una funcion que sume que recorres elementos sume pares y sume los elemetos impares\"\"\"\n",
        "def sumar_pares_impares(matriz):\n",
        "    suma_par=0\n",
        "    suma_impar=0\n",
        "\n",
        "    for fila in matriz:\n",
        "      for elemento in fila:\n",
        "        if elemento %2==0:\n",
        "          suma_par+=elemento\n",
        "        else:\n",
        "          suma_impar+=elemento\n",
        "    return suma_par, suma_impar\n",
        "matriz=[[1,2,3],[4,5,6],[7,8,9]]\n",
        "suma_par, suma_impar = sumar_pares_impares(matriz)\n",
        "print(suma_par, suma_impar)\n",
        "\n",
        "\n",
        "\n"
      ]
    },
    {
      "cell_type": "markdown",
      "metadata": {
        "id": "pBflK7X6WEPa"
      },
      "source": [
        "Ejercicios del  mail"
      ]
    },
    {
      "cell_type": "code",
      "execution_count": null,
      "metadata": {
        "colab": {
          "background_save": true,
          "base_uri": "https://localhost:8080/"
        },
        "id": "sDCuWwUhQndZ",
        "outputId": "b29646c2-b30a-4891-b900-d88098af61e7"
      },
      "outputs": [
        {
          "name": "stdout",
          "output_type": "stream",
          "text": [
            "15\n"
          ]
        }
      ],
      "source": [
        "\"\"\"1.Suma de la diagonal secundaria\n",
        "Dada una matriz cuadrada, calcula la suma de los elementos que forman\n",
        "la diagonal secundaria (de la esquina superior derecha a la inferior izquierda).\"\"\"\n",
        "def suma_diagonal_secundaria(matriz):\n",
        "    suma = 0\n",
        "    n = len(matriz)\n",
        "    for i in range(n):\n",
        "        suma += matriz[i][n - 1 - i]\n",
        "    return suma\n",
        "\n",
        "matriz = [\n",
        "    [1, 2, 3],\n",
        "    [4, 5, 6],\n",
        "    [7, 8, 9]\n",
        "]\n",
        "for fila in matriz:\n",
        "    print(fila)\n",
        "print(suma_diagonal_secundaria(matriz))"
      ]
    },
    {
      "cell_type": "code",
      "execution_count": null,
      "metadata": {
        "colab": {
          "base_uri": "https://localhost:8080/"
        },
        "id": "9nspwid6RMPu",
        "outputId": "add2ddd8-938e-45cc-9399-108ef1192f13"
      },
      "outputs": [
        {
          "name": "stdout",
          "output_type": "stream",
          "text": [
            "\n",
            "2. Rotar matriz 90° en sentido horario:\n",
            "Matriz original:\n",
            "[1, 2, 3]\n",
            "[4, 5, 6]\n",
            "[7, 8, 9]\n",
            "Matriz rotada:\n",
            "[7, 4, 1]\n",
            "[8, 5, 2]\n",
            "[9, 6, 3]\n"
          ]
        }
      ],
      "source": [
        "\"\"\"2.Rotar matriz 90° en sentido horario\n",
        "Escribe un programa que reciba una matriz cuadrada\n",
        "y retorne una nueva matriz que represente la original rotada 90 grados en sentido horario.\"\"\"\n",
        "def rotar_matriz(matriz):\n",
        "    return [list(fila) for fila in zip(*matriz[::-1])]\n",
        "\n",
        "matriz = [\n",
        "    [1, 2, 3],\n",
        "    [4, 5, 6],\n",
        "    [7, 8, 9]\n",
        "]\n",
        "print(\"\\n2. Rotar matriz 90° en sentido horario:\")\n",
        "print(\"Matriz original:\")\n",
        "for fila in matriz:\n",
        "    print(fila)\n",
        "rotada = rotar_matriz(matriz)\n",
        "print(\"Matriz rotada:\")\n",
        "for fila in rotada:\n",
        "    print(fila)"
      ]
    },
    {
      "cell_type": "code",
      "execution_count": null,
      "metadata": {
        "colab": {
          "base_uri": "https://localhost:8080/"
        },
        "id": "BzpfnxPZROXG",
        "outputId": "4dc7a5b6-841f-4ecf-f6a8-0198297f7023"
      },
      "outputs": [
        {
          "name": "stdout",
          "output_type": "stream",
          "text": [
            "\n",
            "3. Buscar un valor y devolver sus posiciones:\n",
            "Matriz:\n",
            "[1, 2, 3]\n",
            "[4, 5, 6]\n",
            "[7, 8, 5]\n",
            "Posiciones del valor 5: [(1, 1), (2, 2)]\n"
          ]
        }
      ],
      "source": [
        "\"\"\"3.Buscar un valor y devolver sus posiciones\n",
        "Solicita al usuario un número entero y muestra todas las posiciones\n",
        "(índice de fila y columna) donde ese valor aparece dentro de la matriz.\"\"\"\n",
        "def buscar_valor(matriz, valor):\n",
        "    posiciones = []\n",
        "    for i in range(len(matriz)):\n",
        "        for j in range(len(matriz[i])):\n",
        "            if matriz[i][j] == valor:\n",
        "                posiciones.append((i, j))\n",
        "    return posiciones\n",
        "\n",
        "matriz = [\n",
        "    [1, 2, 3],\n",
        "    [4, 5, 6],\n",
        "    [7, 8, 5]\n",
        "]\n",
        "print(\"\\n3. Buscar un valor y devolver sus posiciones:\")\n",
        "print(\"Matriz:\")\n",
        "for fila in matriz:\n",
        "    print(fila)\n",
        "valor = 5\n",
        "print(f\"Posiciones del valor {valor}:\", buscar_valor(matriz, valor))"
      ]
    },
    {
      "cell_type": "code",
      "execution_count": null,
      "metadata": {
        "colab": {
          "base_uri": "https://localhost:8080/"
        },
        "id": "6jMjznUfRUlu",
        "outputId": "45e65472-6d91-47c3-d732-cd2059380e0b"
      },
      "outputs": [
        {
          "name": "stdout",
          "output_type": "stream",
          "text": [
            "\n",
            "4. Verificar si una matriz es simétrica:\n",
            "Matriz 1:\n",
            "[1, 2, 3]\n",
            "[2, 5, 6]\n",
            "[3, 6, 9]\n",
            "¿Es simétrica? True\n",
            "\n",
            "Matriz 2:\n",
            "[1, 2, 3]\n",
            "[4, 5, 6]\n",
            "[7, 8, 9]\n",
            "¿Es simétrica? False\n"
          ]
        }
      ],
      "source": [
        "\"\"\"4.Verificar si una matriz es simétrica\n",
        "Escribe una función que determine si una matriz cuadrada es simétrica respecto a su diagonal principal.\n",
        "\"\"\"\n",
        "def es_simetrica(matriz):\n",
        "    n = len(matriz)\n",
        "    for i in range(n):\n",
        "        for j in range(i + 1, n):\n",
        "            if matriz[i][j] != matriz[j][i]:\n",
        "                return False\n",
        "    return True\n",
        "\n",
        "matriz_simetrica = [\n",
        "    [1, 2, 3],\n",
        "    [2, 5, 6],\n",
        "    [3, 6, 9]\n",
        "]\n",
        "matriz_no_simetrica = [\n",
        "    [1, 2, 3],\n",
        "    [4, 5, 6],\n",
        "    [7, 8, 9]\n",
        "]\n",
        "print(\"\\n4. Verificar si una matriz es simétrica:\")\n",
        "print(\"Matriz 1:\")\n",
        "for fila in matriz_simetrica:\n",
        "    print(fila)\n",
        "print(\"¿Es simétrica?\", es_simetrica(matriz_simetrica))\n",
        "print(\"\\nMatriz 2:\")\n",
        "for fila in matriz_no_simetrica:\n",
        "    print(fila)\n",
        "print(\"¿Es simétrica?\", es_simetrica(matriz_no_simetrica))"
      ]
    },
    {
      "cell_type": "code",
      "execution_count": null,
      "metadata": {
        "colab": {
          "base_uri": "https://localhost:8080/"
        },
        "id": "tHkhv118RdLn",
        "outputId": "d76885f6-b10d-4d28-afb1-7845b2934120"
      },
      "outputs": [
        {
          "name": "stdout",
          "output_type": "stream",
          "text": [
            "\n",
            "5. Recorrido en forma de espiral:\n",
            "Matriz:\n",
            "[1, 2, 3, 4]\n",
            "[5, 6, 7, 8]\n",
            "[9, 10, 11, 12]\n",
            "[13, 14, 15, 16]\n",
            "Recorrido en espiral: [1, 2, 3, 4, 8, 12, 16, 15, 14, 13, 9, 5, 6, 7, 11, 10]\n"
          ]
        }
      ],
      "source": [
        "\"\"\"5.Recorrido en forma de espiral\n",
        "\n",
        "Imprime los elementos de una matriz cuadrada\n",
        " en orden espiral, comenzando desde la esquina superior izquierda hacia el centro.\"\"\"\n",
        "def recorrido_espiral(matriz):\n",
        "    resultado = []\n",
        "    while matriz:\n",
        "        # Añade la primera fila\n",
        "        resultado += matriz.pop(0)\n",
        "        # Añade el último elemento de las filas restantes\n",
        "        if matriz and matriz[0]:\n",
        "            for fila in matriz:\n",
        "                resultado.append(fila.pop())\n",
        "        # Añade la última fila en orden inverso\n",
        "        if matriz:\n",
        "            resultado += matriz.pop()[::-1]\n",
        "        # Añade el primer elemento de las filas restantes en orden inverso\n",
        "        if matriz and matriz[0]:\n",
        "            for fila in matriz[::-1]:\n",
        "                resultado.append(fila.pop(0))\n",
        "    return resultado\n",
        "\n",
        "matriz = [\n",
        "    [1, 2, 3, 4],\n",
        "    [5, 6, 7, 8],\n",
        "    [9, 10, 11, 12],\n",
        "    [13, 14, 15, 16]\n",
        "]\n",
        "print(\"\\n5. Recorrido en forma de espiral:\")\n",
        "print(\"Matriz:\")\n",
        "for fila in matriz:\n",
        "    print(fila)\n",
        "print(\"Recorrido en espiral:\", recorrido_espiral([fila.copy() for fila in matriz]))"
      ]
    },
    {
      "cell_type": "code",
      "execution_count": null,
      "metadata": {
        "colab": {
          "base_uri": "https://localhost:8080/"
        },
        "id": "b_UcdfRSRi0_",
        "outputId": "31bcd7ce-d6fa-48a2-e375-2e541d5af9d9"
      },
      "outputs": [
        {
          "name": "stdout",
          "output_type": "stream",
          "text": [
            "\n",
            "6. Producto escalar entre dos matrices:\n",
            "Matriz 1:\n",
            "[1, 2]\n",
            "[3, 4]\n",
            "Matriz 2:\n",
            "[5, 6]\n",
            "[7, 8]\n",
            "Producto escalar: 70\n"
          ]
        }
      ],
      "source": [
        "\"\"\"6.Producto escalar entre dos matrices\n",
        "\n",
        "Dados dos matrices del mismo tamaño, calcula el producto escalar:\n",
        " suma de los productos de los elementos correspondientes.\"\"\"\n",
        "def producto_escalar(matriz1, matriz2):\n",
        "    resultado = 0\n",
        "    for i in range(len(matriz1)):\n",
        "        for j in range(len(matriz1[i])):\n",
        "            resultado += matriz1[i][j] * matriz2[i][j]\n",
        "    return resultado\n",
        "\n",
        "matriz1 = [\n",
        "    [1, 2],\n",
        "    [3, 4]\n",
        "]\n",
        "matriz2 = [\n",
        "    [5, 6],\n",
        "    [7, 8]\n",
        "]\n",
        "print(\"\\n6. Producto escalar entre dos matrices:\")\n",
        "print(\"Matriz 1:\")\n",
        "for fila in matriz1:\n",
        "    print(fila)\n",
        "print(\"Matriz 2:\")\n",
        "for fila in matriz2:\n",
        "    print(fila)\n",
        "print(\"Producto escalar:\", producto_escalar(matriz1, matriz2))"
      ]
    },
    {
      "cell_type": "code",
      "execution_count": null,
      "metadata": {
        "colab": {
          "base_uri": "https://localhost:8080/"
        },
        "id": "Qv1ciVamRnJv",
        "outputId": "ca1408be-f42b-4fc3-ad71-1af61b6b2bd6"
      },
      "outputs": [
        {
          "name": "stdout",
          "output_type": "stream",
          "text": [
            "\n",
            "7. Invertir columnas de una matriz:\n",
            "Matriz original:\n",
            "[1, 2, 3]\n",
            "[4, 5, 6]\n",
            "[7, 8, 9]\n",
            "Matriz con columnas invertidas:\n",
            "[3, 2, 1]\n",
            "[6, 5, 4]\n",
            "[9, 8, 7]\n"
          ]
        }
      ],
      "source": [
        "\"\"\"7.Invertir columnas de una matriz\n",
        "\n",
        "Escribe un algoritmo que invierta el orden de las columnas de una matriz\n",
        "(la primera con la última, la segunda con la penúltima, etc.).\"\"\"\n",
        "def invertir_columnas(matriz):\n",
        "    return [fila[::-1] for fila in matriz]\n",
        "\n",
        "# Ejemplo de uso\n",
        "matriz = [\n",
        "    [1, 2, 3],\n",
        "    [4, 5, 6],\n",
        "    [7, 8, 9]\n",
        "]\n",
        "print(\"\\n7. Invertir columnas de una matriz:\")\n",
        "print(\"Matriz original:\")\n",
        "for fila in matriz:\n",
        "    print(fila)\n",
        "invertida = invertir_columnas(matriz)\n",
        "print(\"Matriz con columnas invertidas:\")\n",
        "for fila in invertida:\n",
        "    print(fila)"
      ]
    },
    {
      "cell_type": "code",
      "execution_count": null,
      "metadata": {
        "colab": {
          "base_uri": "https://localhost:8080/"
        },
        "id": "p46LwH0fRtj_",
        "outputId": "6800915b-df58-4cea-bead-9ac156db4569"
      },
      "outputs": [
        {
          "name": "stdout",
          "output_type": "stream",
          "text": [
            "\n",
            "8. Intercambiar filas pares por impares:\n",
            "Matriz original:\n",
            "[1, 2, 3]\n",
            "[4, 5, 6]\n",
            "[7, 8, 9]\n",
            "[10, 11, 12]\n",
            "Matriz con filas intercambiadas:\n",
            "[4, 5, 6]\n",
            "[1, 2, 3]\n",
            "[10, 11, 12]\n",
            "[7, 8, 9]\n"
          ]
        }
      ],
      "source": [
        "\"\"\"8.Intercambiar filas pares por impares\n",
        "\n",
        "Intercambia cada fila par por la fila impar que le sigue.\n",
        "Si la cantidad de filas es impar, la última fila permanece sin cambio.\"\"\"\n",
        "def intercambiar_filas(matriz):\n",
        "    for i in range(0, len(matriz) - 1, 2):\n",
        "        matriz[i], matriz[i+1] = matriz[i+1], matriz[i]\n",
        "    return matriz\n",
        "\n",
        "# Ejemplo de uso\n",
        "matriz = [\n",
        "    [1, 2, 3],\n",
        "    [4, 5, 6],\n",
        "    [7, 8, 9],\n",
        "    [10, 11, 12]\n",
        "]\n",
        "print(\"\\n8. Intercambiar filas pares por impares:\")\n",
        "print(\"Matriz original:\")\n",
        "for fila in matriz:\n",
        "    print(fila)\n",
        "intercambiada = intercambiar_filas([fila.copy() for fila in matriz])\n",
        "print(\"Matriz con filas intercambiadas:\")\n",
        "for fila in intercambiada:\n",
        "    print(fila)"
      ]
    },
    {
      "cell_type": "code",
      "execution_count": null,
      "metadata": {
        "colab": {
          "base_uri": "https://localhost:8080/"
        },
        "id": "Baf-UjKJRw6u",
        "outputId": "3ae77f9f-a2e2-418e-c0b6-2ee79b29cf37"
      },
      "outputs": [
        {
          "name": "stdout",
          "output_type": "stream",
          "text": [
            "\n",
            "9. Verificar si una matriz es un cuadrado mágico:\n",
            "Matriz 1:\n",
            "[8, 1, 6]\n",
            "[3, 5, 7]\n",
            "[4, 9, 2]\n",
            "¿Es cuadrado mágico? True\n",
            "\n",
            "Matriz 2:\n",
            "[1, 2, 3]\n",
            "[4, 5, 6]\n",
            "[7, 8, 9]\n",
            "¿Es cuadrado mágico? False\n"
          ]
        }
      ],
      "source": [
        "\"\"\"9.Verificar si una matriz es un cuadrado mágico\n",
        "\n",
        "Una matriz es un cuadrado mágico si la suma de cada fila, columna y de ambas diagonales es igual.\n",
        " Verifica si una matriz cuadrada cumple esta condición.\"\"\"\n",
        "def es_cuadrado_magico(matriz):\n",
        "    n = len(matriz)\n",
        "    suma_objetivo = sum(matriz[0])\n",
        "\n",
        "    # Verificar filas\n",
        "    for fila in matriz:\n",
        "        if sum(fila) != suma_objetivo:\n",
        "            return False\n",
        "\n",
        "    # Verificar columnas\n",
        "    for j in range(n):\n",
        "        suma_columna = sum(matriz[i][j] for i in range(n))\n",
        "        if suma_columna != suma_objetivo:\n",
        "            return False\n",
        "\n",
        "    # Verificar diagonal principal\n",
        "    suma_diagonal = sum(matriz[i][i] for i in range(n))\n",
        "    if suma_diagonal != suma_objetivo:\n",
        "        return False\n",
        "\n",
        "    # Verificar diagonal secundaria\n",
        "    suma_diagonal_sec = sum(matriz[i][n-1-i] for i in range(n))\n",
        "    if suma_diagonal_sec != suma_objetivo:\n",
        "        return False\n",
        "\n",
        "    return True\n",
        "\n",
        "# Ejemplo de uso\n",
        "cuadrado_magico = [\n",
        "    [8, 1, 6],\n",
        "    [3, 5, 7],\n",
        "    [4, 9, 2]\n",
        "]\n",
        "no_magico = [\n",
        "    [1, 2, 3],\n",
        "    [4, 5, 6],\n",
        "    [7, 8, 9]\n",
        "]\n",
        "print(\"\\n9. Verificar si una matriz es un cuadrado mágico:\")\n",
        "print(\"Matriz 1:\")\n",
        "for fila in cuadrado_magico:\n",
        "    print(fila)\n",
        "print(\"¿Es cuadrado mágico?\", es_cuadrado_magico(cuadrado_magico))\n",
        "print(\"\\nMatriz 2:\")\n",
        "for fila in no_magico:\n",
        "    print(fila)\n",
        "print(\"¿Es cuadrado mágico?\", es_cuadrado_magico(no_magico))"
      ]
    },
    {
      "cell_type": "code",
      "execution_count": null,
      "metadata": {
        "colab": {
          "base_uri": "https://localhost:8080/"
        },
        "id": "UiK6z257R07g",
        "outputId": "fa9da782-2570-4751-c067-bdaeac1486d9"
      },
      "outputs": [
        {
          "name": "stdout",
          "output_type": "stream",
          "text": [
            "\n",
            "10. Crear una matriz escalonada:\n",
            "Matriz escalonada de tamaño 4:\n",
            "[1, 0, 0, 0]\n",
            "[2, 1, 0, 0]\n",
            "[3, 3, 1, 0]\n",
            "[4, 4, 4, 1]\n"
          ]
        }
      ],
      "source": [
        "\"\"\"10.Crear una matriz escalonada\n",
        "Genera una matriz cuadrada donde los elementos de la diagonal principal son 1,\n",
        "los elementos debajo de la diagonal son el número de fila, y los demás son 0.\"\"\"\n",
        "def matriz_escalonada(n):\n",
        "    matriz = []\n",
        "    for i in range(n):\n",
        "        fila = []\n",
        "        for j in range(n):\n",
        "            if i == j:\n",
        "                fila.append(1)\n",
        "            elif i > j:\n",
        "                fila.append(i + 1)  # +1 porque los índices empiezan en 0\n",
        "            else:\n",
        "                fila.append(0)\n",
        "        matriz.append(fila)\n",
        "    return matriz\n",
        "\n",
        "# Ejemplo de uso\n",
        "tamano = 4\n",
        "print(\"\\n10. Crear una matriz escalonada:\")\n",
        "matriz_esc = matriz_escalonada(tamano)\n",
        "print(f\"Matriz escalonada de tamaño {tamano}:\")\n",
        "for fila in matriz_esc:\n",
        "    print(fila)"
      ]
    }
  ],
  "metadata": {
    "colab": {
      "provenance": [],
      "include_colab_link": true
    },
    "kernelspec": {
      "display_name": "Python 3",
      "name": "python3"
    },
    "language_info": {
      "name": "python"
    }
  },
  "nbformat": 4,
  "nbformat_minor": 0
}