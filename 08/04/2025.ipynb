{
  "nbformat": 4,
  "nbformat_minor": 0,
  "metadata": {
    "colab": {
      "provenance": [],
      "authorship_tag": "ABX9TyOKi0cTXqpc4JT2OoliVql/",
      "include_colab_link": true
    },
    "kernelspec": {
      "name": "python3",
      "display_name": "Python 3"
    },
    "language_info": {
      "name": "python"
    }
  },
  "cells": [
    {
      "cell_type": "markdown",
      "metadata": {
        "id": "view-in-github",
        "colab_type": "text"
      },
      "source": [
        "<a href=\"https://colab.research.google.com/github/Ricardiam/001py/blob/main/08/04/2025.ipynb\" target=\"_parent\"><img src=\"https://colab.research.google.com/assets/colab-badge.svg\" alt=\"Open In Colab\"/></a>"
      ]
    },
    {
      "cell_type": "code",
      "execution_count": 1,
      "metadata": {
        "colab": {
          "base_uri": "https://localhost:8080/"
        },
        "id": "5YXS0qr-uRW9",
        "outputId": "e620a6c6-5436-4eb1-ea31-32b65707b4e1"
      },
      "outputs": [
        {
          "output_type": "stream",
          "name": "stdout",
          "text": [
            "ingresa un numero n:4\n",
            "ingresa un elemento de la lista:1\n",
            "ingresa un elemento de la lista:2\n",
            "ingresa un elemento de la lista:3\n",
            "ingresa un elemento de la lista:4\n",
            "[1, 2, 3, 4]\n"
          ]
        }
      ],
      "source": [
        "#ingresa un numero n por teclado ingredsa n elemntos sa tu lista\n",
        "n=int(input(\"ingresa un numero n:\"))\n",
        "lista=[]\n",
        "for i in range(n):\n",
        "    lista.append(int(input(\"ingresa un elemento de la lista:\")))\n",
        "print(lista)\n"
      ]
    },
    {
      "cell_type": "code",
      "source": [
        "n = int(input(\"Ingresa un número n: \"))\n",
        "lista = []\n",
        "i = 0\n",
        "while i < n:\n",
        "    elemento =  int(input(\"Ingrese el elemento \" + str(i+1) + \" de la lista: \"))\n",
        "    lista.append(elemento)\n",
        "    i += 1\n",
        "print(\"La lista es:\", lista)"
      ],
      "metadata": {
        "colab": {
          "base_uri": "https://localhost:8080/"
        },
        "id": "GGiDjSmvxk1y",
        "outputId": "6e498272-c56c-4b1b-f4e8-4ac66be9c7b0"
      },
      "execution_count": 9,
      "outputs": [
        {
          "output_type": "stream",
          "name": "stdout",
          "text": [
            "Ingresa un número n: 3\n",
            "Ingrese el elemento 1 de la lista: 1\n",
            "Ingrese el elemento 2 de la lista: 2\n",
            "Ingrese el elemento 3 de la lista: 3\n",
            "La lista es: [1, 2, 3]\n"
          ]
        }
      ]
    },
    {
      "cell_type": "markdown",
      "source": [],
      "metadata": {
        "id": "K1-VOECHx-wp"
      }
    },
    {
      "cell_type": "code",
      "source": [],
      "metadata": {
        "id": "cgiwzFmNyBuK"
      },
      "execution_count": null,
      "outputs": []
    },
    {
      "cell_type": "markdown",
      "source": [
        "953713569"
      ],
      "metadata": {
        "id": "FivJmJiDyA0K"
      }
    }
  ]
}