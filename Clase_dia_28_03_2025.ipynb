{
  "nbformat": 4,
  "nbformat_minor": 0,
  "metadata": {
    "colab": {
      "provenance": [],
      "authorship_tag": "ABX9TyMetYu2ysgZB+IXKFZW7mxk",
      "include_colab_link": true
    },
    "kernelspec": {
      "name": "python3",
      "display_name": "Python 3"
    },
    "language_info": {
      "name": "python"
    }
  },
  "cells": [
    {
      "cell_type": "markdown",
      "metadata": {
        "id": "view-in-github",
        "colab_type": "text"
      },
      "source": [
        "<a href=\"https://colab.research.google.com/github/Ricardiam/001py/blob/main/Clase_dia_28_03_2025.ipynb\" target=\"_parent\"><img src=\"https://colab.research.google.com/assets/colab-badge.svg\" alt=\"Open In Colab\"/></a>"
      ]
    },
    {
      "cell_type": "code",
      "source": [
        "#ingresa un numero y cmuestra de 0 hasta ese numero\n",
        "\n",
        "n = int(input(\"ingresa un numero: \"))\n",
        "i= n+1\n",
        "print (i)"
      ],
      "metadata": {
        "colab": {
          "base_uri": "https://localhost:8080/"
        },
        "id": "7aifQMyCo91u",
        "outputId": "4c01d025-6207-4e2e-ca84-3713addadc5e"
      },
      "execution_count": null,
      "outputs": [
        {
          "output_type": "stream",
          "name": "stdout",
          "text": [
            "ingresa un numero: 10\n",
            "11\n"
          ]
        }
      ]
    },
    {
      "cell_type": "code",
      "source": [
        "#ingresa 2 numeros y muestra los numeros del menor al mayor\n",
        "n = int(input(\"ingresa un numero: \"))\n",
        "m = int(input(\"ingresa otro numero: \"))\n",
        "if n < m:\n",
        "  for i in range(n,m+1):\n",
        "    print(i, )\n",
        "\n",
        "else:\n",
        "  for i in range(m,n+1):\n",
        "    print(i)\n",
        "\n",
        "  print(f\"{m}→ {n}\")"
      ],
      "metadata": {
        "colab": {
          "base_uri": "https://localhost:8080/"
        },
        "id": "V2izgBIAsKRv",
        "outputId": "ac3eb9f6-bbce-45ca-8f74-24c13432df42"
      },
      "execution_count": null,
      "outputs": [
        {
          "output_type": "stream",
          "name": "stdout",
          "text": [
            "ingresa un numero: 5\n",
            "ingresa otro numero: 4\n",
            "4\n",
            "5\n",
            "4→ 5\n"
          ]
        }
      ]
    },
    {
      "cell_type": "code",
      "source": [
        "\n",
        "\"\"\"ingresa adivina el numero\n",
        "el numeor que has ingresado es muy alto\n",
        "es muy bajo\"\"\"\n",
        "\n",
        "import random\n",
        "n = random.randint(1, 100)\n",
        "\n",
        "print(\"¡Adivina el número!\")\n",
        "\n",
        "while n!=i:\n",
        "    i = int(input(\"Ingresa tu número: \"))\n",
        "\n",
        "    if i < n:\n",
        "        print(\"El número que ingresaste es muy bajo\")\n",
        "    elif i> n:\n",
        "        print(\"El número que ingresaste es muy alto\")\n",
        "    else:\n",
        "        print(f\"¡Exacto! El número secreto era {n}\")\n",
        "\n"
      ],
      "metadata": {
        "colab": {
          "base_uri": "https://localhost:8080/"
        },
        "id": "VRVwNOVnw6y1",
        "outputId": "46633eaf-d2b7-4075-9ec4-d23c9254aa01"
      },
      "execution_count": null,
      "outputs": [
        {
          "output_type": "stream",
          "name": "stdout",
          "text": [
            "¡Adivina el número!\n",
            "Ingresa tu número: 10\n",
            "El número que ingresaste es muy bajo\n",
            "Ingresa tu número: 5\n",
            "El número que ingresaste es muy bajo\n",
            "Ingresa tu número: 50\n",
            "El número que ingresaste es muy alto\n",
            "Ingresa tu número: 40\n",
            "El número que ingresaste es muy bajo\n",
            "Ingresa tu número: 50\n",
            "El número que ingresaste es muy alto\n",
            "Ingresa tu número: 45\n",
            "El número que ingresaste es muy bajo\n",
            "Ingresa tu número: 48\n",
            "El número que ingresaste es muy bajo\n",
            "Ingresa tu número: 49\n",
            "¡Exacto! El número secreto era 49\n"
          ]
        }
      ]
    },
    {
      "cell_type": "code",
      "source": [
        "#crea un menu sdonde el usuario pueda elegir saludar adios\n",
        "n= int(input(\"ingrese una opcion 1 2 3  \"))\n",
        "print()\n",
        "if n == 1:\n",
        "  print(\"hola\")\n",
        "elif n == 2:\n",
        "  print(\"adios\")\n",
        "elif n == 3:\n",
        "  print(\"salir\")\n",
        "else:\n",
        "  print(\"Comando invalido\")\n",
        "\n"
      ],
      "metadata": {
        "colab": {
          "base_uri": "https://localhost:8080/"
        },
        "id": "J1z0ebXg3osN",
        "outputId": "abf882f2-0709-47eb-ef48-71110fa0f633"
      },
      "execution_count": null,
      "outputs": [
        {
          "output_type": "stream",
          "name": "stdout",
          "text": [
            "ingrese una opcion 1 2 3  1\n",
            "\n",
            "hola\n"
          ]
        }
      ]
    }
  ]
}