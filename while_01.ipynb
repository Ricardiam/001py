{
  "nbformat": 4,
  "nbformat_minor": 0,
  "metadata": {
    "colab": {
      "provenance": [],
      "authorship_tag": "ABX9TyN6vAVNC2EZ4GaOiT/HFBKY",
      "include_colab_link": true
    },
    "kernelspec": {
      "name": "python3",
      "display_name": "Python 3"
    },
    "language_info": {
      "name": "python"
    }
  },
  "cells": [
    {
      "cell_type": "markdown",
      "metadata": {
        "id": "view-in-github",
        "colab_type": "text"
      },
      "source": [
        "<a href=\"https://colab.research.google.com/github/Ricardiam/001py/blob/main/while_01.ipynb\" target=\"_parent\"><img src=\"https://colab.research.google.com/assets/colab-badge.svg\" alt=\"Open In Colab\"/></a>"
      ]
    },
    {
      "cell_type": "code",
      "execution_count": null,
      "metadata": {
        "id": "HW4lsmVS7aAI"
      },
      "outputs": [],
      "source": [
        "\"\"\"usuario ingrese numero y sea tamaño de la lista y acabe con ese numero\"\"\"\n",
        "tamañio_de_lista = int(input(\"ingrese numero: \"))\n",
        "lista = []\n",
        "contador = 0\n",
        "while  len(lista)<tamañio_de_lista :\n",
        "  num_user = int(input(\"ingrese numero: \"))\n",
        "  lista.append(num_user)\n",
        "print(lista)\n",
        "\n"
      ]
    },
    {
      "cell_type": "markdown",
      "source": [],
      "metadata": {
        "id": "jkFM4C3tHmdA"
      }
    },
    {
      "cell_type": "code",
      "source": [
        "\"\"\"usuario ingrese numero y sea tamaño de la lista y acabe con ese numero\"\"\"\n"
      ],
      "metadata": {
        "id": "JNbgn6IHtvzo"
      },
      "execution_count": null,
      "outputs": []
    }
  ]
}