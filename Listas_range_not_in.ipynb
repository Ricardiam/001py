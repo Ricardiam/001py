{
  "nbformat": 4,
  "nbformat_minor": 0,
  "metadata": {
    "colab": {
      "provenance": [],
      "authorship_tag": "ABX9TyPel93Igo01AWcG/iytOnpM",
      "include_colab_link": true
    },
    "kernelspec": {
      "name": "python3",
      "display_name": "Python 3"
    },
    "language_info": {
      "name": "python"
    }
  },
  "cells": [
    {
      "cell_type": "markdown",
      "metadata": {
        "id": "view-in-github",
        "colab_type": "text"
      },
      "source": [
        "<a href=\"https://colab.research.google.com/github/Ricardiam/001py/blob/main/Listas_range_not_in.ipynb\" target=\"_parent\"><img src=\"https://colab.research.google.com/assets/colab-badge.svg\" alt=\"Open In Colab\"/></a>"
      ]
    },
    {
      "cell_type": "code",
      "source": [
        "''' Crear una lista con En este ejercicio, se utiliza un bucle while para agregar\n",
        "números consecutivos a una lista hasta alcanzar un tamaño específico.'''\n",
        "lista =[]\n",
        "i= 0\n",
        "while len(lista)< 10:\n",
        "    lista.append(i)\n",
        "    i+=1\n",
        "print(lista)\n"
      ],
      "metadata": {
        "id": "I1BLqoREnVHC"
      },
      "execution_count": null,
      "outputs": []
    },
    {
      "cell_type": "code",
      "source": [
        "'''\n",
        "Ejercicio 4: Crear una playlist interactiva\n",
        "Este ejercicio permite al usuario agregar canciones a una lista\n",
        "hasta que decida salir.\n",
        "'''\n",
        "\n",
        "lista = []\n",
        "agregar_cancion = True\n",
        "\n",
        "while agregar_cancion:\n",
        "    cancion = input(\"Ingrese el nombre de la canción o escriba 'salir' para terminar: \")\n",
        "    if cancion.lower() == 'salir':  # Corregido: agregado ()\n",
        "        print(\"Gracias por usar la lista\")\n",
        "        agregar_cancion = False\n",
        "    else:  # Corregido: agregado :\n",
        "        lista.append(cancion)  # Corregido: agregar a la lista, no a la canción\n",
        "        print(f\"Canción agregada: {cancion}\")  # Opcional: feedback al usuario\n",
        "\n",
        "print(\"Tu lista es:\", lista)  # Corregido: sintaxis de print"
      ],
      "metadata": {
        "id": "cB_unNFmqRhL",
        "colab": {
          "base_uri": "https://localhost:8080/"
        },
        "outputId": "f54b14e1-1365-4928-a32e-427677e13d33"
      },
      "execution_count": null,
      "outputs": [
        {
          "output_type": "stream",
          "name": "stdout",
          "text": [
            "Ingrese el nombre de la canción o escriba 'salir' para terminar: cancioom\n",
            "Canción agregada: cancioom\n",
            "Ingrese el nombre de la canción o escriba 'salir' para terminar: cancionn}\n",
            "Canción agregada: cancionn}\n",
            "Ingrese el nombre de la canción o escriba 'salir' para terminar: cancion2\n",
            "Canción agregada: cancion2\n",
            "Ingrese el nombre de la canción o escriba 'salir' para terminar: salir\n",
            "Gracias por usar la lista\n",
            "Tu lista es: ['cancioom', 'cancionn}', 'cancion2']\n"
          ]
        }
      ]
    },
    {
      "cell_type": "code",
      "source": [
        "#ingrese una frase y dime cuantas palabras hay\n",
        "frase = input(\"Ingrese una frase: \")\n",
        "contador = 1\n",
        "palabra_actual = \"\"  # Almacena la palabra que se está formando\n",
        "\n",
        "for caracter in frase:\n",
        "    if caracter == ' ':\n",
        "        contador+=1\n",
        "print(\"La frase tiene\" ,contador, \"palabras.\")"
      ],
      "metadata": {
        "id": "xkJi1LQBwmKE",
        "colab": {
          "base_uri": "https://localhost:8080/"
        },
        "outputId": "5d5b1791-04a8-46c7-ffa0-2908d778bb78"
      },
      "execution_count": 6,
      "outputs": [
        {
          "output_type": "stream",
          "name": "stdout",
          "text": [
            "Ingrese una frase: asdfds\n",
            "La frase tiene 1 palabras.\n"
          ]
        }
      ]
    },
    {
      "cell_type": "code",
      "source": [
        "# Función para contar palabras sin split()\n",
        "def contar_palabras(frase):\n",
        "    contador = 0\n",
        "    en_palabra = False\n",
        "\n",
        "    for caracter in frase:\n",
        "        if caracter != ' ' and caracter != '\\t':\n",
        "            if not en_palabra:\n",
        "                contador += 1\n",
        "                en_palabra = True\n",
        "        else:\n",
        "            en_palabra = False\n",
        "    return contador\n",
        "\n",
        "# Pedir dos frases al usuario\n",
        "frase1 = input(\"Ingrese la primera frase: \")\n",
        "frase2 = input(\"Ingrese la segunda frase: \")\n",
        "\n",
        "# Contar palabras en cada frase\n",
        "palabras1 = contar_palabras(frase1)\n",
        "palabras2 = contar_palabras(frase2)\n",
        "\n",
        "# Mostrar resultados\n",
        "print(f\"La primera frase tiene {palabras1} palabras.\")\n",
        "print(f\"La segunda frase tiene {palabras2} palabras.\")"
      ],
      "metadata": {
        "id": "usWFhIPHEjXx"
      },
      "execution_count": null,
      "outputs": []
    },
    {
      "cell_type": "code",
      "source": [
        "\"\"\"pida al usuario un elemento n pida n elementos a la lista\n",
        "transforma a los numeros pares por 2 y a los impar restas 1\"\"\"\n",
        "lista=[]\n",
        "n=int(input(\"INGRESE UN NUMERO\"))\n",
        "if n%2==0:\n",
        "  a=n*2\n",
        "  print(a)\n",
        "else:\n",
        "  a = n -1\n",
        "  print(a-1)"
      ],
      "metadata": {
        "colab": {
          "base_uri": "https://localhost:8080/"
        },
        "id": "7IaX04egx4pv",
        "outputId": "e4b97db3-7753-4b19-ca16-6c07fbed71f1"
      },
      "execution_count": null,
      "outputs": [
        {
          "output_type": "stream",
          "name": "stdout",
          "text": [
            "INGRESE UN NUMERO11\n",
            "9\n"
          ]
        }
      ]
    },
    {
      "cell_type": "code",
      "source": [
        "\n",
        "lista = []\n",
        "n = int(input(\"Ingrese la cantidad de elementos: \"))\n",
        "for i in range(n):\n",
        "    num = int(input(\"Ingrese el elemento \" + str(i+1) + \": \"))\n",
        "    lista.append(num)\n",
        "\n",
        "for i in range(len(lista)):\n",
        "    if lista[i] % 2 == 0:\n",
        "        lista[i] = lista[i] * 2\n",
        "    else:\n",
        "        lista[i] = lista[i] - 1\n",
        "\n",
        "print(\"Lista transformada:\", lista)\n"
      ],
      "metadata": {
        "colab": {
          "base_uri": "https://localhost:8080/"
        },
        "id": "o173niec0525",
        "outputId": "e4bac168-45f3-46d7-a294-93fbde4fe93d"
      },
      "execution_count": 5,
      "outputs": [
        {
          "output_type": "stream",
          "name": "stdout",
          "text": [
            "Ingrese la cantidad de elementos: 3\n",
            "Ingrese el elemento 1: 1\n",
            "Ingrese el elemento 2: 2\n",
            "Ingrese el elemento 3: 3\n",
            "Lista transformada: [0, 4, 2]\n"
          ]
        }
      ]
    },
    {
      "cell_type": "code",
      "source": [
        "web = \"www.programacionfacil.org \"\n",
        "print(web)"
      ],
      "metadata": {
        "colab": {
          "base_uri": "https://localhost:8080/"
        },
        "id": "Ciyk_kI4Hl5x",
        "outputId": "249f2c6a-3959-477f-e4e7-969963b03a38"
      },
      "execution_count": 4,
      "outputs": [
        {
          "output_type": "stream",
          "name": "stdout",
          "text": [
            "www.programacionfacil.org \n"
          ]
        }
      ]
    },
    {
      "cell_type": "code",
      "source": [
        "M=[[2,2,1,2,3],[3,4,2,2,1],[1,3,4,3,4],[2,3,2,4,2],[1,2,3,4,1]]\n",
        "a=[]\n",
        "for i in M:\n",
        "  for  j in i:\n",
        "    if j not in a:\n",
        "      a.append(j)\n",
        "print(a)\n",
        "\n"
      ],
      "metadata": {
        "colab": {
          "base_uri": "https://localhost:8080/"
        },
        "id": "sK6PMTHj3uwq",
        "outputId": "e80bc1b7-605b-4647-f662-b6bf980c8aba"
      },
      "execution_count": 3,
      "outputs": [
        {
          "output_type": "stream",
          "name": "stdout",
          "text": [
            "[2, 1, 3, 4]\n"
          ]
        }
      ]
    },
    {
      "cell_type": "markdown",
      "source": [],
      "metadata": {
        "id": "JnWnXuTH-EQr"
      }
    }
  ]
}